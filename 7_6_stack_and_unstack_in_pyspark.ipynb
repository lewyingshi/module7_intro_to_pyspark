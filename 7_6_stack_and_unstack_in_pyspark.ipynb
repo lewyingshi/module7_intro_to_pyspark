{
 "cells": [
  {
   "cell_type": "markdown",
   "metadata": {
    "slideshow": {
     "slide_type": "slide"
    }
   },
   "source": [
    "# Stacking and Unstacking data in `pyspark`"
   ]
  },
  {
   "cell_type": "markdown",
   "metadata": {
    "slideshow": {
     "slide_type": "slide"
    }
   },
   "source": [
    "## Welcome back to developer's corner\n",
    "\n",
    "While `pyspark` doesn't provide explicit methods for these two actions, we will be able to accomplish each operation using a combination of methods.  In this lecture, we will \n",
    "\n",
    "1. Build up expressions for stacking and unstacking a `pyspark df` \n",
    "2. Create helper functions for each operation to automate these processes."
   ]
  },
  {
   "cell_type": "markdown",
   "metadata": {
    "slideshow": {
     "slide_type": "slide"
    }
   },
   "source": [
    "#### `pyspark` setup"
   ]
  },
  {
   "cell_type": "code",
   "execution_count": 1,
   "metadata": {
    "slideshow": {
     "slide_type": "fragment"
    }
   },
   "outputs": [],
   "source": [
    "from pyspark.sql import SparkSession\n",
    "spark = SparkSession.builder.appName('Ops').config('spark.driver.host', 'localhost').getOrCreate()"
   ]
  },
  {
   "cell_type": "code",
   "execution_count": 2,
   "metadata": {
    "slideshow": {
     "slide_type": "fragment"
    }
   },
   "outputs": [
    {
     "data": {
      "text/html": [
       "<div>\n",
       "<style scoped>\n",
       "    .dataframe tbody tr th:only-of-type {\n",
       "        vertical-align: middle;\n",
       "    }\n",
       "\n",
       "    .dataframe tbody tr th {\n",
       "        vertical-align: top;\n",
       "    }\n",
       "\n",
       "    .dataframe thead th {\n",
       "        text-align: right;\n",
       "    }\n",
       "</style>\n",
       "<table border=\"1\" class=\"dataframe\">\n",
       "  <thead>\n",
       "    <tr style=\"text-align: right;\">\n",
       "      <th></th>\n",
       "      <th>Salesperson</th>\n",
       "      <th>Compact</th>\n",
       "      <th>Sedan</th>\n",
       "      <th>SUV</th>\n",
       "      <th>Truck</th>\n",
       "    </tr>\n",
       "  </thead>\n",
       "  <tbody>\n",
       "    <tr>\n",
       "      <th>0</th>\n",
       "      <td>Ann</td>\n",
       "      <td>22</td>\n",
       "      <td>18</td>\n",
       "      <td>15.0</td>\n",
       "      <td>12</td>\n",
       "    </tr>\n",
       "    <tr>\n",
       "      <th>1</th>\n",
       "      <td>Bob</td>\n",
       "      <td>19</td>\n",
       "      <td>12</td>\n",
       "      <td>17.0</td>\n",
       "      <td>20</td>\n",
       "    </tr>\n",
       "    <tr>\n",
       "      <th>2</th>\n",
       "      <td>Doug</td>\n",
       "      <td>20</td>\n",
       "      <td>13</td>\n",
       "      <td>NaN</td>\n",
       "      <td>20</td>\n",
       "    </tr>\n",
       "    <tr>\n",
       "      <th>3</th>\n",
       "      <td>Yolanda</td>\n",
       "      <td>19</td>\n",
       "      <td>8</td>\n",
       "      <td>32.0</td>\n",
       "      <td>15</td>\n",
       "    </tr>\n",
       "    <tr>\n",
       "      <th>4</th>\n",
       "      <td>Xerxes</td>\n",
       "      <td>12</td>\n",
       "      <td>23</td>\n",
       "      <td>18.0</td>\n",
       "      <td>9</td>\n",
       "    </tr>\n",
       "  </tbody>\n",
       "</table>\n",
       "</div>"
      ],
      "text/plain": [
       "  Salesperson  Compact  Sedan   SUV  Truck\n",
       "0         Ann       22     18  15.0     12\n",
       "1         Bob       19     12  17.0     20\n",
       "2        Doug       20     13   NaN     20\n",
       "3     Yolanda       19      8  32.0     15\n",
       "4      Xerxes       12     23  18.0      9"
      ]
     },
     "execution_count": 2,
     "metadata": {},
     "output_type": "execute_result"
    }
   ],
   "source": [
    "from more_pyspark import to_pandas\n",
    "salesk = spark.read.csv(\"./data/auto_sales.csv\", header=True, inferSchema=True)\n",
    "salesk.collect() >> to_pandas"
   ]
  },
  {
   "cell_type": "markdown",
   "metadata": {
    "slideshow": {
     "slide_type": "slide"
    }
   },
   "source": [
    "## Stacking data in `pyspark`\n",
    "\n",
    "Two step process\n",
    "\n",
    "1. Combine the columns to be stacked into an array\n",
    "2. Explode the array\n",
    "\n",
    "[Source](https://www.mien.in/2018/03/25/reshaping-dataframe-using-pivot-and-melt-in-apache-spark-and-pandas/)"
   ]
  },
  {
   "cell_type": "markdown",
   "metadata": {
    "slideshow": {
     "slide_type": "slide"
    }
   },
   "source": [
    "#### A helper function that combines multiple column entries into a column array"
   ]
  },
  {
   "cell_type": "code",
   "execution_count": 3,
   "metadata": {
    "slideshow": {
     "slide_type": "fragment"
    }
   },
   "outputs": [
    {
     "data": {
      "text/plain": [
       "Column<'array(struct(Compact AS `car_type`, Compact AS `qtr_sales`), struct(Sedan AS `car_type`, Sedan AS `qtr_sales`), struct(SUV AS `car_type`, SUV AS `qtr_sales`), struct(Truck AS `car_type`, Truck AS `qtr_sales`))'>"
      ]
     },
     "execution_count": 3,
     "metadata": {},
     "output_type": "execute_result"
    }
   ],
   "source": [
    "from pyspark.sql.functions import array, explode, struct, lit, col\n",
    "make_array = lambda var_name, val_name, cols: (array(*(struct(lit(c).alias(var_name), \n",
    "                                                              col(c).alias(val_name))\n",
    "                                                       for c in cols)))\n",
    "\n",
    "sales_cols = ['Compact','Sedan', 'SUV', 'Truck']\n",
    "make_array('car_type', 'qtr_sales', sales_cols)"
   ]
  },
  {
   "cell_type": "markdown",
   "metadata": {
    "slideshow": {
     "slide_type": "slide"
    }
   },
   "source": [
    "#### Testing `make_array`"
   ]
  },
  {
   "cell_type": "code",
   "execution_count": 4,
   "metadata": {
    "slideshow": {
     "slide_type": "fragment"
    }
   },
   "outputs": [
    {
     "data": {
      "text/html": [
       "<div>\n",
       "<style scoped>\n",
       "    .dataframe tbody tr th:only-of-type {\n",
       "        vertical-align: middle;\n",
       "    }\n",
       "\n",
       "    .dataframe tbody tr th {\n",
       "        vertical-align: top;\n",
       "    }\n",
       "\n",
       "    .dataframe thead th {\n",
       "        text-align: right;\n",
       "    }\n",
       "</style>\n",
       "<table border=\"1\" class=\"dataframe\">\n",
       "  <thead>\n",
       "    <tr style=\"text-align: right;\">\n",
       "      <th></th>\n",
       "      <th>Salesperson</th>\n",
       "      <th>Compact</th>\n",
       "      <th>Sedan</th>\n",
       "      <th>SUV</th>\n",
       "      <th>Truck</th>\n",
       "      <th>sales</th>\n",
       "    </tr>\n",
       "  </thead>\n",
       "  <tbody>\n",
       "    <tr>\n",
       "      <th>0</th>\n",
       "      <td>Ann</td>\n",
       "      <td>22</td>\n",
       "      <td>18</td>\n",
       "      <td>15.0</td>\n",
       "      <td>12</td>\n",
       "      <td>[(Compact, 22), (Sedan, 18), (SUV, 15), (Truck...</td>\n",
       "    </tr>\n",
       "    <tr>\n",
       "      <th>1</th>\n",
       "      <td>Bob</td>\n",
       "      <td>19</td>\n",
       "      <td>12</td>\n",
       "      <td>17.0</td>\n",
       "      <td>20</td>\n",
       "      <td>[(Compact, 19), (Sedan, 12), (SUV, 17), (Truck...</td>\n",
       "    </tr>\n",
       "    <tr>\n",
       "      <th>2</th>\n",
       "      <td>Doug</td>\n",
       "      <td>20</td>\n",
       "      <td>13</td>\n",
       "      <td>NaN</td>\n",
       "      <td>20</td>\n",
       "      <td>[(Compact, 20), (Sedan, 13), (SUV, None), (Tru...</td>\n",
       "    </tr>\n",
       "    <tr>\n",
       "      <th>3</th>\n",
       "      <td>Yolanda</td>\n",
       "      <td>19</td>\n",
       "      <td>8</td>\n",
       "      <td>32.0</td>\n",
       "      <td>15</td>\n",
       "      <td>[(Compact, 19), (Sedan, 8), (SUV, 32), (Truck,...</td>\n",
       "    </tr>\n",
       "    <tr>\n",
       "      <th>4</th>\n",
       "      <td>Xerxes</td>\n",
       "      <td>12</td>\n",
       "      <td>23</td>\n",
       "      <td>18.0</td>\n",
       "      <td>9</td>\n",
       "      <td>[(Compact, 12), (Sedan, 23), (SUV, 18), (Truck...</td>\n",
       "    </tr>\n",
       "  </tbody>\n",
       "</table>\n",
       "</div>"
      ],
      "text/plain": [
       "  Salesperson  Compact  Sedan   SUV  Truck  \\\n",
       "0         Ann       22     18  15.0     12   \n",
       "1         Bob       19     12  17.0     20   \n",
       "2        Doug       20     13   NaN     20   \n",
       "3     Yolanda       19      8  32.0     15   \n",
       "4      Xerxes       12     23  18.0      9   \n",
       "\n",
       "                                               sales  \n",
       "0  [(Compact, 22), (Sedan, 18), (SUV, 15), (Truck...  \n",
       "1  [(Compact, 19), (Sedan, 12), (SUV, 17), (Truck...  \n",
       "2  [(Compact, 20), (Sedan, 13), (SUV, None), (Tru...  \n",
       "3  [(Compact, 19), (Sedan, 8), (SUV, 32), (Truck,...  \n",
       "4  [(Compact, 12), (Sedan, 23), (SUV, 18), (Truck...  "
      ]
     },
     "execution_count": 4,
     "metadata": {},
     "output_type": "execute_result"
    }
   ],
   "source": [
    "from pyspark.sql.functions import array, explode, struct, lit, col, collect_list\n",
    "(salesk\n",
    " .withColumn('sales', \n",
    "             make_array('car_type', \n",
    "                        'qtr_sales', \n",
    "                        sales_cols))\n",
    " .collect()) >> to_pandas"
   ]
  },
  {
   "cell_type": "markdown",
   "metadata": {
    "slideshow": {
     "slide_type": "slide"
    }
   },
   "source": [
    "#### `explode` the contents to the array column to stack entries"
   ]
  },
  {
   "cell_type": "code",
   "execution_count": 5,
   "metadata": {
    "slideshow": {
     "slide_type": "fragment"
    }
   },
   "outputs": [
    {
     "data": {
      "text/html": [
       "<div>\n",
       "<style scoped>\n",
       "    .dataframe tbody tr th:only-of-type {\n",
       "        vertical-align: middle;\n",
       "    }\n",
       "\n",
       "    .dataframe tbody tr th {\n",
       "        vertical-align: top;\n",
       "    }\n",
       "\n",
       "    .dataframe thead th {\n",
       "        text-align: right;\n",
       "    }\n",
       "</style>\n",
       "<table border=\"1\" class=\"dataframe\">\n",
       "  <thead>\n",
       "    <tr style=\"text-align: right;\">\n",
       "      <th></th>\n",
       "      <th>Salesperson</th>\n",
       "      <th>Compact</th>\n",
       "      <th>Sedan</th>\n",
       "      <th>SUV</th>\n",
       "      <th>Truck</th>\n",
       "      <th>sales</th>\n",
       "      <th>vars_and_vals</th>\n",
       "    </tr>\n",
       "  </thead>\n",
       "  <tbody>\n",
       "    <tr>\n",
       "      <th>0</th>\n",
       "      <td>Ann</td>\n",
       "      <td>22</td>\n",
       "      <td>18</td>\n",
       "      <td>15</td>\n",
       "      <td>12</td>\n",
       "      <td>[(Compact, 22), (Sedan, 18), (SUV, 15), (Truck...</td>\n",
       "      <td>(Compact, 22)</td>\n",
       "    </tr>\n",
       "    <tr>\n",
       "      <th>1</th>\n",
       "      <td>Ann</td>\n",
       "      <td>22</td>\n",
       "      <td>18</td>\n",
       "      <td>15</td>\n",
       "      <td>12</td>\n",
       "      <td>[(Compact, 22), (Sedan, 18), (SUV, 15), (Truck...</td>\n",
       "      <td>(Sedan, 18)</td>\n",
       "    </tr>\n",
       "    <tr>\n",
       "      <th>2</th>\n",
       "      <td>Ann</td>\n",
       "      <td>22</td>\n",
       "      <td>18</td>\n",
       "      <td>15</td>\n",
       "      <td>12</td>\n",
       "      <td>[(Compact, 22), (Sedan, 18), (SUV, 15), (Truck...</td>\n",
       "      <td>(SUV, 15)</td>\n",
       "    </tr>\n",
       "  </tbody>\n",
       "</table>\n",
       "</div>"
      ],
      "text/plain": [
       "  Salesperson  Compact  Sedan  SUV  Truck  \\\n",
       "0         Ann       22     18   15     12   \n",
       "1         Ann       22     18   15     12   \n",
       "2         Ann       22     18   15     12   \n",
       "\n",
       "                                               sales  vars_and_vals  \n",
       "0  [(Compact, 22), (Sedan, 18), (SUV, 15), (Truck...  (Compact, 22)  \n",
       "1  [(Compact, 22), (Sedan, 18), (SUV, 15), (Truck...    (Sedan, 18)  \n",
       "2  [(Compact, 22), (Sedan, 18), (SUV, 15), (Truck...      (SUV, 15)  "
      ]
     },
     "execution_count": 5,
     "metadata": {},
     "output_type": "execute_result"
    }
   ],
   "source": [
    "t = (salesk\n",
    "    .withColumn('sales', \n",
    "                make_array('car_type', \n",
    "                           'qtr_sales', \n",
    "                           sales_cols))\n",
    "    .withColumn(\"vars_and_vals\", explode(col('sales'))))\n",
    "t.take(3) >> to_pandas"
   ]
  },
  {
   "cell_type": "markdown",
   "metadata": {
    "slideshow": {
     "slide_type": "slide"
    }
   },
   "source": [
    "#### Checking out the schema of the result\n",
    "\n",
    "Note that the exploded entries are named `'car_type'` and `'qtr_sales'`"
   ]
  },
  {
   "cell_type": "code",
   "execution_count": 6,
   "metadata": {
    "slideshow": {
     "slide_type": "fragment"
    }
   },
   "outputs": [
    {
     "name": "stdout",
     "output_type": "stream",
     "text": [
      "root\n",
      " |-- Salesperson: string (nullable = true)\n",
      " |-- Compact: integer (nullable = true)\n",
      " |-- Sedan: integer (nullable = true)\n",
      " |-- SUV: integer (nullable = true)\n",
      " |-- Truck: integer (nullable = true)\n",
      " |-- sales: array (nullable = false)\n",
      " |    |-- element: struct (containsNull = false)\n",
      " |    |    |-- car_type: string (nullable = false)\n",
      " |    |    |-- qtr_sales: integer (nullable = true)\n",
      " |-- vars_and_vals: struct (nullable = false)\n",
      " |    |-- car_type: string (nullable = false)\n",
      " |    |-- qtr_sales: integer (nullable = true)\n",
      "\n"
     ]
    }
   ],
   "source": [
    "t.printSchema()"
   ]
  },
  {
   "cell_type": "markdown",
   "metadata": {
    "slideshow": {
     "slide_type": "slide"
    }
   },
   "source": [
    "#### Testing extraction of tuple entries"
   ]
  },
  {
   "cell_type": "code",
   "execution_count": 7,
   "metadata": {
    "slideshow": {
     "slide_type": "fragment"
    }
   },
   "outputs": [
    {
     "data": {
      "text/html": [
       "<div>\n",
       "<style scoped>\n",
       "    .dataframe tbody tr th:only-of-type {\n",
       "        vertical-align: middle;\n",
       "    }\n",
       "\n",
       "    .dataframe tbody tr th {\n",
       "        vertical-align: top;\n",
       "    }\n",
       "\n",
       "    .dataframe thead th {\n",
       "        text-align: right;\n",
       "    }\n",
       "</style>\n",
       "<table border=\"1\" class=\"dataframe\">\n",
       "  <thead>\n",
       "    <tr style=\"text-align: right;\">\n",
       "      <th></th>\n",
       "      <th>Salesperson</th>\n",
       "      <th>Compact</th>\n",
       "      <th>Sedan</th>\n",
       "      <th>SUV</th>\n",
       "      <th>Truck</th>\n",
       "      <th>sales</th>\n",
       "      <th>vars_and_vals</th>\n",
       "      <th>types</th>\n",
       "    </tr>\n",
       "  </thead>\n",
       "  <tbody>\n",
       "    <tr>\n",
       "      <th>0</th>\n",
       "      <td>Ann</td>\n",
       "      <td>22</td>\n",
       "      <td>18</td>\n",
       "      <td>15</td>\n",
       "      <td>12</td>\n",
       "      <td>22</td>\n",
       "      <td>(Compact, 22)</td>\n",
       "      <td>Compact</td>\n",
       "    </tr>\n",
       "    <tr>\n",
       "      <th>1</th>\n",
       "      <td>Ann</td>\n",
       "      <td>22</td>\n",
       "      <td>18</td>\n",
       "      <td>15</td>\n",
       "      <td>12</td>\n",
       "      <td>18</td>\n",
       "      <td>(Sedan, 18)</td>\n",
       "      <td>Sedan</td>\n",
       "    </tr>\n",
       "    <tr>\n",
       "      <th>2</th>\n",
       "      <td>Ann</td>\n",
       "      <td>22</td>\n",
       "      <td>18</td>\n",
       "      <td>15</td>\n",
       "      <td>12</td>\n",
       "      <td>15</td>\n",
       "      <td>(SUV, 15)</td>\n",
       "      <td>SUV</td>\n",
       "    </tr>\n",
       "  </tbody>\n",
       "</table>\n",
       "</div>"
      ],
      "text/plain": [
       "  Salesperson  Compact  Sedan  SUV  Truck  sales  vars_and_vals    types\n",
       "0         Ann       22     18   15     12     22  (Compact, 22)  Compact\n",
       "1         Ann       22     18   15     12     18    (Sedan, 18)    Sedan\n",
       "2         Ann       22     18   15     12     15      (SUV, 15)      SUV"
      ]
     },
     "execution_count": 7,
     "metadata": {},
     "output_type": "execute_result"
    }
   ],
   "source": [
    "t = (t\n",
    " .withColumn('types', t['vars_and_vals'].getItem(\"car_type\"))\n",
    " .withColumn('sales', t['vars_and_vals'].getItem(\"qtr_sales\")))\n",
    "t.take(3) >> to_pandas"
   ]
  },
  {
   "cell_type": "markdown",
   "metadata": {
    "slideshow": {
     "slide_type": "slide"
    }
   },
   "source": [
    "#### Dropping extra columns\n"
   ]
  },
  {
   "cell_type": "code",
   "execution_count": 8,
   "metadata": {
    "slideshow": {
     "slide_type": "fragment"
    }
   },
   "outputs": [
    {
     "data": {
      "text/html": [
       "<div>\n",
       "<style scoped>\n",
       "    .dataframe tbody tr th:only-of-type {\n",
       "        vertical-align: middle;\n",
       "    }\n",
       "\n",
       "    .dataframe tbody tr th {\n",
       "        vertical-align: top;\n",
       "    }\n",
       "\n",
       "    .dataframe thead th {\n",
       "        text-align: right;\n",
       "    }\n",
       "</style>\n",
       "<table border=\"1\" class=\"dataframe\">\n",
       "  <thead>\n",
       "    <tr style=\"text-align: right;\">\n",
       "      <th></th>\n",
       "      <th>Salesperson</th>\n",
       "      <th>sales</th>\n",
       "      <th>types</th>\n",
       "    </tr>\n",
       "  </thead>\n",
       "  <tbody>\n",
       "    <tr>\n",
       "      <th>0</th>\n",
       "      <td>Ann</td>\n",
       "      <td>22</td>\n",
       "      <td>Compact</td>\n",
       "    </tr>\n",
       "    <tr>\n",
       "      <th>1</th>\n",
       "      <td>Ann</td>\n",
       "      <td>18</td>\n",
       "      <td>Sedan</td>\n",
       "    </tr>\n",
       "    <tr>\n",
       "      <th>2</th>\n",
       "      <td>Ann</td>\n",
       "      <td>15</td>\n",
       "      <td>SUV</td>\n",
       "    </tr>\n",
       "  </tbody>\n",
       "</table>\n",
       "</div>"
      ],
      "text/plain": [
       "  Salesperson  sales    types\n",
       "0         Ann     22  Compact\n",
       "1         Ann     18    Sedan\n",
       "2         Ann     15      SUV"
      ]
     },
     "execution_count": 8,
     "metadata": {},
     "output_type": "execute_result"
    }
   ],
   "source": [
    "t = (t\n",
    " .drop(*sales_cols)\n",
    " .drop('vars_and_vals'))\n",
    "t.take(3) >> to_pandas"
   ]
  },
  {
   "cell_type": "markdown",
   "metadata": {
    "slideshow": {
     "slide_type": "slide"
    }
   },
   "source": [
    "####  Putting it all together with generic names"
   ]
  },
  {
   "cell_type": "code",
   "execution_count": 9,
   "metadata": {
    "slideshow": {
     "slide_type": "fragment"
    }
   },
   "outputs": [
    {
     "data": {
      "text/html": [
       "<div>\n",
       "<style scoped>\n",
       "    .dataframe tbody tr th:only-of-type {\n",
       "        vertical-align: middle;\n",
       "    }\n",
       "\n",
       "    .dataframe tbody tr th {\n",
       "        vertical-align: top;\n",
       "    }\n",
       "\n",
       "    .dataframe thead th {\n",
       "        text-align: right;\n",
       "    }\n",
       "</style>\n",
       "<table border=\"1\" class=\"dataframe\">\n",
       "  <thead>\n",
       "    <tr style=\"text-align: right;\">\n",
       "      <th></th>\n",
       "      <th>Salesperson</th>\n",
       "      <th>car_type</th>\n",
       "      <th>qtr_sales</th>\n",
       "    </tr>\n",
       "  </thead>\n",
       "  <tbody>\n",
       "    <tr>\n",
       "      <th>0</th>\n",
       "      <td>Ann</td>\n",
       "      <td>Compact</td>\n",
       "      <td>22.0</td>\n",
       "    </tr>\n",
       "    <tr>\n",
       "      <th>1</th>\n",
       "      <td>Ann</td>\n",
       "      <td>Sedan</td>\n",
       "      <td>18.0</td>\n",
       "    </tr>\n",
       "    <tr>\n",
       "      <th>2</th>\n",
       "      <td>Ann</td>\n",
       "      <td>SUV</td>\n",
       "      <td>15.0</td>\n",
       "    </tr>\n",
       "    <tr>\n",
       "      <th>3</th>\n",
       "      <td>Ann</td>\n",
       "      <td>Truck</td>\n",
       "      <td>12.0</td>\n",
       "    </tr>\n",
       "    <tr>\n",
       "      <th>4</th>\n",
       "      <td>Bob</td>\n",
       "      <td>Compact</td>\n",
       "      <td>19.0</td>\n",
       "    </tr>\n",
       "    <tr>\n",
       "      <th>5</th>\n",
       "      <td>Bob</td>\n",
       "      <td>Sedan</td>\n",
       "      <td>12.0</td>\n",
       "    </tr>\n",
       "    <tr>\n",
       "      <th>6</th>\n",
       "      <td>Bob</td>\n",
       "      <td>SUV</td>\n",
       "      <td>17.0</td>\n",
       "    </tr>\n",
       "    <tr>\n",
       "      <th>7</th>\n",
       "      <td>Bob</td>\n",
       "      <td>Truck</td>\n",
       "      <td>20.0</td>\n",
       "    </tr>\n",
       "    <tr>\n",
       "      <th>8</th>\n",
       "      <td>Doug</td>\n",
       "      <td>Compact</td>\n",
       "      <td>20.0</td>\n",
       "    </tr>\n",
       "    <tr>\n",
       "      <th>9</th>\n",
       "      <td>Doug</td>\n",
       "      <td>Sedan</td>\n",
       "      <td>13.0</td>\n",
       "    </tr>\n",
       "    <tr>\n",
       "      <th>10</th>\n",
       "      <td>Doug</td>\n",
       "      <td>SUV</td>\n",
       "      <td>NaN</td>\n",
       "    </tr>\n",
       "    <tr>\n",
       "      <th>11</th>\n",
       "      <td>Doug</td>\n",
       "      <td>Truck</td>\n",
       "      <td>20.0</td>\n",
       "    </tr>\n",
       "    <tr>\n",
       "      <th>12</th>\n",
       "      <td>Yolanda</td>\n",
       "      <td>Compact</td>\n",
       "      <td>19.0</td>\n",
       "    </tr>\n",
       "    <tr>\n",
       "      <th>13</th>\n",
       "      <td>Yolanda</td>\n",
       "      <td>Sedan</td>\n",
       "      <td>8.0</td>\n",
       "    </tr>\n",
       "    <tr>\n",
       "      <th>14</th>\n",
       "      <td>Yolanda</td>\n",
       "      <td>SUV</td>\n",
       "      <td>32.0</td>\n",
       "    </tr>\n",
       "    <tr>\n",
       "      <th>15</th>\n",
       "      <td>Yolanda</td>\n",
       "      <td>Truck</td>\n",
       "      <td>15.0</td>\n",
       "    </tr>\n",
       "    <tr>\n",
       "      <th>16</th>\n",
       "      <td>Xerxes</td>\n",
       "      <td>Compact</td>\n",
       "      <td>12.0</td>\n",
       "    </tr>\n",
       "    <tr>\n",
       "      <th>17</th>\n",
       "      <td>Xerxes</td>\n",
       "      <td>Sedan</td>\n",
       "      <td>23.0</td>\n",
       "    </tr>\n",
       "    <tr>\n",
       "      <th>18</th>\n",
       "      <td>Xerxes</td>\n",
       "      <td>SUV</td>\n",
       "      <td>18.0</td>\n",
       "    </tr>\n",
       "    <tr>\n",
       "      <th>19</th>\n",
       "      <td>Xerxes</td>\n",
       "      <td>Truck</td>\n",
       "      <td>9.0</td>\n",
       "    </tr>\n",
       "  </tbody>\n",
       "</table>\n",
       "</div>"
      ],
      "text/plain": [
       "   Salesperson car_type  qtr_sales\n",
       "0          Ann  Compact       22.0\n",
       "1          Ann    Sedan       18.0\n",
       "2          Ann      SUV       15.0\n",
       "3          Ann    Truck       12.0\n",
       "4          Bob  Compact       19.0\n",
       "5          Bob    Sedan       12.0\n",
       "6          Bob      SUV       17.0\n",
       "7          Bob    Truck       20.0\n",
       "8         Doug  Compact       20.0\n",
       "9         Doug    Sedan       13.0\n",
       "10        Doug      SUV        NaN\n",
       "11        Doug    Truck       20.0\n",
       "12     Yolanda  Compact       19.0\n",
       "13     Yolanda    Sedan        8.0\n",
       "14     Yolanda      SUV       32.0\n",
       "15     Yolanda    Truck       15.0\n",
       "16      Xerxes  Compact       12.0\n",
       "17      Xerxes    Sedan       23.0\n",
       "18      Xerxes      SUV       18.0\n",
       "19      Xerxes    Truck        9.0"
      ]
     },
     "execution_count": 9,
     "metadata": {},
     "output_type": "execute_result"
    }
   ],
   "source": [
    "cols_to_stack = sales_cols\n",
    "var_lbl = 'car_type'\n",
    "val_lbl = 'qtr_sales'\n",
    "(salesk\n",
    " .withColumn('var_val_array', \n",
    "             make_array(var_lbl, \n",
    "                        val_lbl, \n",
    "                        cols_to_stack))\n",
    " .withColumn(\"vars_and_vals\", explode(col('var_val_array')))\n",
    " .withColumn(var_lbl, col(\"vars_and_vals\").getItem(var_lbl))\n",
    " .withColumn(val_lbl, col(\"vars_and_vals\").getItem(val_lbl))\n",
    " .drop(*(cols_to_stack + ['var_val_array', \"vars_and_vals\"]))\n",
    " .collect()) >> to_pandas"
   ]
  },
  {
   "cell_type": "markdown",
   "metadata": {
    "slideshow": {
     "slide_type": "slide"
    }
   },
   "source": [
    "#### Building a `gather` functions"
   ]
  },
  {
   "cell_type": "code",
   "execution_count": 67,
   "metadata": {
    "scrolled": true,
    "slideshow": {
     "slide_type": "fragment"
    }
   },
   "outputs": [
    {
     "data": {
      "text/html": [
       "<div>\n",
       "<style scoped>\n",
       "    .dataframe tbody tr th:only-of-type {\n",
       "        vertical-align: middle;\n",
       "    }\n",
       "\n",
       "    .dataframe tbody tr th {\n",
       "        vertical-align: top;\n",
       "    }\n",
       "\n",
       "    .dataframe thead th {\n",
       "        text-align: right;\n",
       "    }\n",
       "</style>\n",
       "<table border=\"1\" class=\"dataframe\">\n",
       "  <thead>\n",
       "    <tr style=\"text-align: right;\">\n",
       "      <th></th>\n",
       "      <th>Salesperson</th>\n",
       "      <th>car_type</th>\n",
       "      <th>qtr_sales</th>\n",
       "    </tr>\n",
       "  </thead>\n",
       "  <tbody>\n",
       "    <tr>\n",
       "      <th>0</th>\n",
       "      <td>Ann</td>\n",
       "      <td>Compact</td>\n",
       "      <td>22.0</td>\n",
       "    </tr>\n",
       "    <tr>\n",
       "      <th>1</th>\n",
       "      <td>Ann</td>\n",
       "      <td>Sedan</td>\n",
       "      <td>18.0</td>\n",
       "    </tr>\n",
       "    <tr>\n",
       "      <th>2</th>\n",
       "      <td>Ann</td>\n",
       "      <td>SUV</td>\n",
       "      <td>15.0</td>\n",
       "    </tr>\n",
       "    <tr>\n",
       "      <th>3</th>\n",
       "      <td>Ann</td>\n",
       "      <td>Truck</td>\n",
       "      <td>12.0</td>\n",
       "    </tr>\n",
       "    <tr>\n",
       "      <th>4</th>\n",
       "      <td>Bob</td>\n",
       "      <td>Compact</td>\n",
       "      <td>19.0</td>\n",
       "    </tr>\n",
       "    <tr>\n",
       "      <th>5</th>\n",
       "      <td>Bob</td>\n",
       "      <td>Sedan</td>\n",
       "      <td>12.0</td>\n",
       "    </tr>\n",
       "    <tr>\n",
       "      <th>6</th>\n",
       "      <td>Bob</td>\n",
       "      <td>SUV</td>\n",
       "      <td>17.0</td>\n",
       "    </tr>\n",
       "    <tr>\n",
       "      <th>7</th>\n",
       "      <td>Bob</td>\n",
       "      <td>Truck</td>\n",
       "      <td>20.0</td>\n",
       "    </tr>\n",
       "    <tr>\n",
       "      <th>8</th>\n",
       "      <td>Doug</td>\n",
       "      <td>Compact</td>\n",
       "      <td>20.0</td>\n",
       "    </tr>\n",
       "    <tr>\n",
       "      <th>9</th>\n",
       "      <td>Doug</td>\n",
       "      <td>Sedan</td>\n",
       "      <td>13.0</td>\n",
       "    </tr>\n",
       "    <tr>\n",
       "      <th>10</th>\n",
       "      <td>Doug</td>\n",
       "      <td>SUV</td>\n",
       "      <td>NaN</td>\n",
       "    </tr>\n",
       "    <tr>\n",
       "      <th>11</th>\n",
       "      <td>Doug</td>\n",
       "      <td>Truck</td>\n",
       "      <td>20.0</td>\n",
       "    </tr>\n",
       "    <tr>\n",
       "      <th>12</th>\n",
       "      <td>Yolanda</td>\n",
       "      <td>Compact</td>\n",
       "      <td>19.0</td>\n",
       "    </tr>\n",
       "    <tr>\n",
       "      <th>13</th>\n",
       "      <td>Yolanda</td>\n",
       "      <td>Sedan</td>\n",
       "      <td>8.0</td>\n",
       "    </tr>\n",
       "    <tr>\n",
       "      <th>14</th>\n",
       "      <td>Yolanda</td>\n",
       "      <td>SUV</td>\n",
       "      <td>32.0</td>\n",
       "    </tr>\n",
       "    <tr>\n",
       "      <th>15</th>\n",
       "      <td>Yolanda</td>\n",
       "      <td>Truck</td>\n",
       "      <td>15.0</td>\n",
       "    </tr>\n",
       "    <tr>\n",
       "      <th>16</th>\n",
       "      <td>Xerxes</td>\n",
       "      <td>Compact</td>\n",
       "      <td>12.0</td>\n",
       "    </tr>\n",
       "    <tr>\n",
       "      <th>17</th>\n",
       "      <td>Xerxes</td>\n",
       "      <td>Sedan</td>\n",
       "      <td>23.0</td>\n",
       "    </tr>\n",
       "    <tr>\n",
       "      <th>18</th>\n",
       "      <td>Xerxes</td>\n",
       "      <td>SUV</td>\n",
       "      <td>18.0</td>\n",
       "    </tr>\n",
       "    <tr>\n",
       "      <th>19</th>\n",
       "      <td>Xerxes</td>\n",
       "      <td>Truck</td>\n",
       "      <td>9.0</td>\n",
       "    </tr>\n",
       "  </tbody>\n",
       "</table>\n",
       "</div>"
      ],
      "text/plain": [
       "   Salesperson car_type  qtr_sales\n",
       "0          Ann  Compact       22.0\n",
       "1          Ann    Sedan       18.0\n",
       "2          Ann      SUV       15.0\n",
       "3          Ann    Truck       12.0\n",
       "4          Bob  Compact       19.0\n",
       "5          Bob    Sedan       12.0\n",
       "6          Bob      SUV       17.0\n",
       "7          Bob    Truck       20.0\n",
       "8         Doug  Compact       20.0\n",
       "9         Doug    Sedan       13.0\n",
       "10        Doug      SUV        NaN\n",
       "11        Doug    Truck       20.0\n",
       "12     Yolanda  Compact       19.0\n",
       "13     Yolanda    Sedan        8.0\n",
       "14     Yolanda      SUV       32.0\n",
       "15     Yolanda    Truck       15.0\n",
       "16      Xerxes  Compact       12.0\n",
       "17      Xerxes    Sedan       23.0\n",
       "18      Xerxes      SUV       18.0\n",
       "19      Xerxes    Truck        9.0"
      ]
     },
     "execution_count": 67,
     "metadata": {},
     "output_type": "execute_result"
    }
   ],
   "source": [
    "from composable import pipeable\n",
    "\n",
    "cols_to_stack = sales_cols\n",
    "var_lbl = 'car_type'\n",
    "val_lbl = 'qtr_sales'\n",
    "\n",
    "@pipeable\n",
    "def gather(var_lbl, val_lbl, cols_to_stack, df):\n",
    "    make_array = lambda var_name, val_name, cols: (array(*(struct(lit(c).alias(var_name), \n",
    "                                                                  col(c).alias(val_name))\n",
    "                                                           for c in cols)))\n",
    "    return (df\n",
    "            .withColumn('var_val_array', \n",
    "                        make_array(var_lbl, \n",
    "                                   val_lbl, \n",
    "                                   cols_to_stack))\n",
    "            .withColumn(\"vars_and_vals\", explode(col('var_val_array')))\n",
    "            .withColumn(var_lbl, col(\"vars_and_vals\").getItem(var_lbl))\n",
    "            .withColumn(val_lbl, col(\"vars_and_vals\").getItem(val_lbl))\n",
    "            .drop(*(cols_to_stack + ['var_val_array', \"vars_and_vals\"])))\n",
    "sales_stackedk = salesk >> gather('car_type', 'qtr_sales', sales_cols)\n",
    "sales_stackedk.collect() >> to_pandas"
   ]
  },
  {
   "cell_type": "markdown",
   "metadata": {
    "slideshow": {
     "slide_type": "slide"
    }
   },
   "source": [
    "## Unstacking columns in `pyspark` with `group_by` and `pivot`"
   ]
  },
  {
   "cell_type": "code",
   "execution_count": 68,
   "metadata": {
    "slideshow": {
     "slide_type": "fragment"
    }
   },
   "outputs": [
    {
     "data": {
      "text/html": [
       "<div>\n",
       "<style scoped>\n",
       "    .dataframe tbody tr th:only-of-type {\n",
       "        vertical-align: middle;\n",
       "    }\n",
       "\n",
       "    .dataframe tbody tr th {\n",
       "        vertical-align: top;\n",
       "    }\n",
       "\n",
       "    .dataframe thead th {\n",
       "        text-align: right;\n",
       "    }\n",
       "</style>\n",
       "<table border=\"1\" class=\"dataframe\">\n",
       "  <thead>\n",
       "    <tr style=\"text-align: right;\">\n",
       "      <th></th>\n",
       "      <th>Salesperson</th>\n",
       "      <th>Compact</th>\n",
       "      <th>SUV</th>\n",
       "      <th>Sedan</th>\n",
       "      <th>Truck</th>\n",
       "    </tr>\n",
       "  </thead>\n",
       "  <tbody>\n",
       "    <tr>\n",
       "      <th>0</th>\n",
       "      <td>Yolanda</td>\n",
       "      <td>19</td>\n",
       "      <td>32.0</td>\n",
       "      <td>8</td>\n",
       "      <td>15</td>\n",
       "    </tr>\n",
       "    <tr>\n",
       "      <th>1</th>\n",
       "      <td>Doug</td>\n",
       "      <td>20</td>\n",
       "      <td>NaN</td>\n",
       "      <td>13</td>\n",
       "      <td>20</td>\n",
       "    </tr>\n",
       "    <tr>\n",
       "      <th>2</th>\n",
       "      <td>Xerxes</td>\n",
       "      <td>12</td>\n",
       "      <td>18.0</td>\n",
       "      <td>23</td>\n",
       "      <td>9</td>\n",
       "    </tr>\n",
       "    <tr>\n",
       "      <th>3</th>\n",
       "      <td>Ann</td>\n",
       "      <td>22</td>\n",
       "      <td>15.0</td>\n",
       "      <td>18</td>\n",
       "      <td>12</td>\n",
       "    </tr>\n",
       "    <tr>\n",
       "      <th>4</th>\n",
       "      <td>Bob</td>\n",
       "      <td>19</td>\n",
       "      <td>17.0</td>\n",
       "      <td>12</td>\n",
       "      <td>20</td>\n",
       "    </tr>\n",
       "  </tbody>\n",
       "</table>\n",
       "</div>"
      ],
      "text/plain": [
       "  Salesperson  Compact   SUV  Sedan  Truck\n",
       "0     Yolanda       19  32.0      8     15\n",
       "1        Doug       20   NaN     13     20\n",
       "2      Xerxes       12  18.0     23      9\n",
       "3         Ann       22  15.0     18     12\n",
       "4         Bob       19  17.0     12     20"
      ]
     },
     "execution_count": 68,
     "metadata": {},
     "output_type": "execute_result"
    }
   ],
   "source": [
    "(sales_stackedk\n",
    " .groupBy('Salesperson')\n",
    " .pivot('car_type')\n",
    " .sum('qtr_sales')\n",
    " .collect()) >> to_pandas"
   ]
  },
  {
   "cell_type": "markdown",
   "metadata": {
    "slideshow": {
     "slide_type": "slide"
    }
   },
   "source": [
    "#### Creating a `spread` helper function"
   ]
  },
  {
   "cell_type": "code",
   "execution_count": 69,
   "metadata": {
    "slideshow": {
     "slide_type": "fragment"
    }
   },
   "outputs": [
    {
     "data": {
      "text/html": [
       "<div>\n",
       "<style scoped>\n",
       "    .dataframe tbody tr th:only-of-type {\n",
       "        vertical-align: middle;\n",
       "    }\n",
       "\n",
       "    .dataframe tbody tr th {\n",
       "        vertical-align: top;\n",
       "    }\n",
       "\n",
       "    .dataframe thead th {\n",
       "        text-align: right;\n",
       "    }\n",
       "</style>\n",
       "<table border=\"1\" class=\"dataframe\">\n",
       "  <thead>\n",
       "    <tr style=\"text-align: right;\">\n",
       "      <th></th>\n",
       "      <th>Salesperson</th>\n",
       "      <th>Compact</th>\n",
       "      <th>SUV</th>\n",
       "      <th>Sedan</th>\n",
       "      <th>Truck</th>\n",
       "    </tr>\n",
       "  </thead>\n",
       "  <tbody>\n",
       "    <tr>\n",
       "      <th>0</th>\n",
       "      <td>Yolanda</td>\n",
       "      <td>19</td>\n",
       "      <td>32.0</td>\n",
       "      <td>8</td>\n",
       "      <td>15</td>\n",
       "    </tr>\n",
       "    <tr>\n",
       "      <th>1</th>\n",
       "      <td>Doug</td>\n",
       "      <td>20</td>\n",
       "      <td>NaN</td>\n",
       "      <td>13</td>\n",
       "      <td>20</td>\n",
       "    </tr>\n",
       "    <tr>\n",
       "      <th>2</th>\n",
       "      <td>Xerxes</td>\n",
       "      <td>12</td>\n",
       "      <td>18.0</td>\n",
       "      <td>23</td>\n",
       "      <td>9</td>\n",
       "    </tr>\n",
       "    <tr>\n",
       "      <th>3</th>\n",
       "      <td>Ann</td>\n",
       "      <td>22</td>\n",
       "      <td>15.0</td>\n",
       "      <td>18</td>\n",
       "      <td>12</td>\n",
       "    </tr>\n",
       "    <tr>\n",
       "      <th>4</th>\n",
       "      <td>Bob</td>\n",
       "      <td>19</td>\n",
       "      <td>17.0</td>\n",
       "      <td>12</td>\n",
       "      <td>20</td>\n",
       "    </tr>\n",
       "  </tbody>\n",
       "</table>\n",
       "</div>"
      ],
      "text/plain": [
       "  Salesperson  Compact   SUV  Sedan  Truck\n",
       "0     Yolanda       19  32.0      8     15\n",
       "1        Doug       20   NaN     13     20\n",
       "2      Xerxes       12  18.0     23      9\n",
       "3         Ann       22  15.0     18     12\n",
       "4         Bob       19  17.0     12     20"
      ]
     },
     "execution_count": 69,
     "metadata": {},
     "output_type": "execute_result"
    }
   ],
   "source": [
    "from pyspark.sql.functions import array, explode, struct, lit, col\n",
    "\n",
    "@pipeable\n",
    "def spread(val_col, var_col, group_by_col, df):\n",
    "    return  (df\n",
    "             .groupBy(group_by_col)\n",
    "             .pivot(val_col)\n",
    "             .sum(var_col))\n",
    "\n",
    "sales_unstackedk = sales_stackedk >> spread('car_type', 'qtr_sales', 'Salesperson')\n",
    "sales_unstackedk.take(5) >> to_pandas"
   ]
  },
  {
   "cell_type": "markdown",
   "metadata": {
    "slideshow": {
     "slide_type": "slide"
    }
   },
   "source": [
    "## <font color=\"red\"> Exercise 3 </font>\n",
    "    \n",
    "**Task:** Load the `Rochester_temps_2019.csv` data, contains data weather data for Rochester, MN. that is available at the [DNR website](https://www.dnr.state.mn.us/climate/historical/lcd.html?loc=rst). Note that `SM` and `AV` stand for *sum* and *average*, respectively.\n",
    "\n",
    "1. Identify that problem with the current format.\n",
    "2. Use `gather` and `spread` to fix the issue."
   ]
  },
  {
   "cell_type": "code",
   "execution_count": 70,
   "metadata": {
    "slideshow": {
     "slide_type": "fragment"
    }
   },
   "outputs": [
    {
     "data": {
      "text/html": [
       "<div>\n",
       "<style scoped>\n",
       "    .dataframe tbody tr th:only-of-type {\n",
       "        vertical-align: middle;\n",
       "    }\n",
       "\n",
       "    .dataframe tbody tr th {\n",
       "        vertical-align: top;\n",
       "    }\n",
       "\n",
       "    .dataframe thead th {\n",
       "        text-align: right;\n",
       "    }\n",
       "</style>\n",
       "<table border=\"1\" class=\"dataframe\">\n",
       "  <thead>\n",
       "    <tr style=\"text-align: right;\">\n",
       "      <th></th>\n",
       "      <th>ELEMENT</th>\n",
       "      <th>JAN</th>\n",
       "      <th>FEB</th>\n",
       "      <th>MAR</th>\n",
       "      <th>APR</th>\n",
       "      <th>MAY</th>\n",
       "      <th>JUN</th>\n",
       "      <th>JUL</th>\n",
       "      <th>AUG</th>\n",
       "      <th>SEP</th>\n",
       "      <th>OCT</th>\n",
       "      <th>NOV</th>\n",
       "      <th>DEC</th>\n",
       "    </tr>\n",
       "  </thead>\n",
       "  <tbody>\n",
       "    <tr>\n",
       "      <th>0</th>\n",
       "      <td>MEAN DAILY MAXIMUM</td>\n",
       "      <td>19.7</td>\n",
       "      <td>20.3</td>\n",
       "      <td>33.9</td>\n",
       "      <td>54.6</td>\n",
       "      <td>63.5</td>\n",
       "      <td>76.0</td>\n",
       "      <td>81.7</td>\n",
       "      <td>76.7</td>\n",
       "      <td>74.7</td>\n",
       "      <td>52.1</td>\n",
       "      <td>34.6</td>\n",
       "      <td>29.2</td>\n",
       "    </tr>\n",
       "    <tr>\n",
       "      <th>1</th>\n",
       "      <td>HIGHEST DAILY MAXIMUM</td>\n",
       "      <td>44.0</td>\n",
       "      <td>41.0</td>\n",
       "      <td>61.0</td>\n",
       "      <td>83.0</td>\n",
       "      <td>86.0</td>\n",
       "      <td>87.0</td>\n",
       "      <td>90.0</td>\n",
       "      <td>85.0</td>\n",
       "      <td>89.0</td>\n",
       "      <td>71.0</td>\n",
       "      <td>47.0</td>\n",
       "      <td>42.0</td>\n",
       "    </tr>\n",
       "    <tr>\n",
       "      <th>2</th>\n",
       "      <td>MEAN DAILY MINIMUM</td>\n",
       "      <td>4.4</td>\n",
       "      <td>2.4</td>\n",
       "      <td>17.9</td>\n",
       "      <td>35.1</td>\n",
       "      <td>44.3</td>\n",
       "      <td>56.5</td>\n",
       "      <td>62.6</td>\n",
       "      <td>56.7</td>\n",
       "      <td>55.5</td>\n",
       "      <td>35.6</td>\n",
       "      <td>21.5</td>\n",
       "      <td>13.9</td>\n",
       "    </tr>\n",
       "    <tr>\n",
       "      <th>3</th>\n",
       "      <td>LOWEST DAILY MINIMUM</td>\n",
       "      <td>-30.0</td>\n",
       "      <td>-15.0</td>\n",
       "      <td>-17.0</td>\n",
       "      <td>24.0</td>\n",
       "      <td>33.0</td>\n",
       "      <td>43.0</td>\n",
       "      <td>52.0</td>\n",
       "      <td>48.0</td>\n",
       "      <td>46.0</td>\n",
       "      <td>19.0</td>\n",
       "      <td>0.0</td>\n",
       "      <td>-8.0</td>\n",
       "    </tr>\n",
       "    <tr>\n",
       "      <th>4</th>\n",
       "      <td>AVERAGE DRY BULB</td>\n",
       "      <td>12.1</td>\n",
       "      <td>11.3</td>\n",
       "      <td>25.9</td>\n",
       "      <td>44.8</td>\n",
       "      <td>53.9</td>\n",
       "      <td>66.3</td>\n",
       "      <td>72.2</td>\n",
       "      <td>66.7</td>\n",
       "      <td>65.1</td>\n",
       "      <td>43.9</td>\n",
       "      <td>28.1</td>\n",
       "      <td>21.5</td>\n",
       "    </tr>\n",
       "  </tbody>\n",
       "</table>\n",
       "</div>"
      ],
      "text/plain": [
       "                 ELEMENT   JAN   FEB   MAR   APR   MAY   JUN   JUL   AUG  \\\n",
       "0     MEAN DAILY MAXIMUM  19.7  20.3  33.9  54.6  63.5  76.0  81.7  76.7   \n",
       "1  HIGHEST DAILY MAXIMUM  44.0  41.0  61.0  83.0  86.0  87.0  90.0  85.0   \n",
       "2     MEAN DAILY MINIMUM   4.4   2.4  17.9  35.1  44.3  56.5  62.6  56.7   \n",
       "3   LOWEST DAILY MINIMUM -30.0 -15.0 -17.0  24.0  33.0  43.0  52.0  48.0   \n",
       "4       AVERAGE DRY BULB  12.1  11.3  25.9  44.8  53.9  66.3  72.2  66.7   \n",
       "\n",
       "    SEP   OCT   NOV   DEC  \n",
       "0  74.7  52.1  34.6  29.2  \n",
       "1  89.0  71.0  47.0  42.0  \n",
       "2  55.5  35.6  21.5  13.9  \n",
       "3  46.0  19.0   0.0  -8.0  \n",
       "4  65.1  43.9  28.1  21.5  "
      ]
     },
     "execution_count": 70,
     "metadata": {},
     "output_type": "execute_result"
    }
   ],
   "source": [
    "min_max = spark.read.csv(\"./data/Rochester_temps_2019.csv\", header=True, inferSchema=True)\n",
    "min_max.take(5) >> to_pandas"
   ]
  },
  {
   "cell_type": "markdown",
   "metadata": {
    "slideshow": {
     "slide_type": "fragment"
    }
   },
   "source": [
    "> The current format breaks the rule of tidy data. The months should all be in one column and the variables under elements should be individual columns."
   ]
  },
  {
   "cell_type": "code",
   "execution_count": 71,
   "metadata": {
    "slideshow": {
     "slide_type": "fragment"
    }
   },
   "outputs": [
    {
     "data": {
      "text/html": [
       "<div>\n",
       "<style scoped>\n",
       "    .dataframe tbody tr th:only-of-type {\n",
       "        vertical-align: middle;\n",
       "    }\n",
       "\n",
       "    .dataframe tbody tr th {\n",
       "        vertical-align: top;\n",
       "    }\n",
       "\n",
       "    .dataframe thead th {\n",
       "        text-align: right;\n",
       "    }\n",
       "</style>\n",
       "<table border=\"1\" class=\"dataframe\">\n",
       "  <thead>\n",
       "    <tr style=\"text-align: right;\">\n",
       "      <th></th>\n",
       "      <th>ELEMENT</th>\n",
       "      <th>month</th>\n",
       "      <th>measure</th>\n",
       "    </tr>\n",
       "  </thead>\n",
       "  <tbody>\n",
       "    <tr>\n",
       "      <th>0</th>\n",
       "      <td>MEAN DAILY MAXIMUM</td>\n",
       "      <td>JAN</td>\n",
       "      <td>19.7</td>\n",
       "    </tr>\n",
       "    <tr>\n",
       "      <th>1</th>\n",
       "      <td>MEAN DAILY MAXIMUM</td>\n",
       "      <td>FEB</td>\n",
       "      <td>20.3</td>\n",
       "    </tr>\n",
       "    <tr>\n",
       "      <th>2</th>\n",
       "      <td>MEAN DAILY MAXIMUM</td>\n",
       "      <td>MAR</td>\n",
       "      <td>33.9</td>\n",
       "    </tr>\n",
       "    <tr>\n",
       "      <th>3</th>\n",
       "      <td>MEAN DAILY MAXIMUM</td>\n",
       "      <td>APR</td>\n",
       "      <td>54.6</td>\n",
       "    </tr>\n",
       "    <tr>\n",
       "      <th>4</th>\n",
       "      <td>MEAN DAILY MAXIMUM</td>\n",
       "      <td>MAY</td>\n",
       "      <td>63.5</td>\n",
       "    </tr>\n",
       "    <tr>\n",
       "      <th>...</th>\n",
       "      <td>...</td>\n",
       "      <td>...</td>\n",
       "      <td>...</td>\n",
       "    </tr>\n",
       "    <tr>\n",
       "      <th>127</th>\n",
       "      <td>NUM DAYS W  MINIMUM &lt;=  0°</td>\n",
       "      <td>AUG</td>\n",
       "      <td>0.0</td>\n",
       "    </tr>\n",
       "    <tr>\n",
       "      <th>128</th>\n",
       "      <td>NUM DAYS W  MINIMUM &lt;=  0°</td>\n",
       "      <td>SEP</td>\n",
       "      <td>0.0</td>\n",
       "    </tr>\n",
       "    <tr>\n",
       "      <th>129</th>\n",
       "      <td>NUM DAYS W  MINIMUM &lt;=  0°</td>\n",
       "      <td>OCT</td>\n",
       "      <td>0.0</td>\n",
       "    </tr>\n",
       "    <tr>\n",
       "      <th>130</th>\n",
       "      <td>NUM DAYS W  MINIMUM &lt;=  0°</td>\n",
       "      <td>NOV</td>\n",
       "      <td>1.0</td>\n",
       "    </tr>\n",
       "    <tr>\n",
       "      <th>131</th>\n",
       "      <td>NUM DAYS W  MINIMUM &lt;=  0°</td>\n",
       "      <td>DEC</td>\n",
       "      <td>6.0</td>\n",
       "    </tr>\n",
       "  </tbody>\n",
       "</table>\n",
       "<p>132 rows × 3 columns</p>\n",
       "</div>"
      ],
      "text/plain": [
       "                         ELEMENT month  measure\n",
       "0             MEAN DAILY MAXIMUM   JAN     19.7\n",
       "1             MEAN DAILY MAXIMUM   FEB     20.3\n",
       "2             MEAN DAILY MAXIMUM   MAR     33.9\n",
       "3             MEAN DAILY MAXIMUM   APR     54.6\n",
       "4             MEAN DAILY MAXIMUM   MAY     63.5\n",
       "..                           ...   ...      ...\n",
       "127   NUM DAYS W  MINIMUM <=  0°   AUG      0.0\n",
       "128   NUM DAYS W  MINIMUM <=  0°   SEP      0.0\n",
       "129   NUM DAYS W  MINIMUM <=  0°   OCT      0.0\n",
       "130   NUM DAYS W  MINIMUM <=  0°   NOV      1.0\n",
       "131   NUM DAYS W  MINIMUM <=  0°   DEC      6.0\n",
       "\n",
       "[132 rows x 3 columns]"
      ]
     },
     "execution_count": 71,
     "metadata": {},
     "output_type": "execute_result"
    }
   ],
   "source": [
    "# Your code here.\n",
    "months_cols = ['JAN','FEB', 'MAR', 'APR', 'MAY', 'JUN', 'JUL', 'AUG', 'SEP', 'OCT', 'NOV', 'DEC']\n",
    "months_stacked = (min_max\n",
    "                  >> gather('month', 'measure', months_cols))\n",
    "months_stacked.collect() >> to_pandas"
   ]
  },
  {
   "cell_type": "code",
   "execution_count": 75,
   "metadata": {},
   "outputs": [
    {
     "data": {
      "text/html": [
       "<div>\n",
       "<style scoped>\n",
       "    .dataframe tbody tr th:only-of-type {\n",
       "        vertical-align: middle;\n",
       "    }\n",
       "\n",
       "    .dataframe tbody tr th {\n",
       "        vertical-align: top;\n",
       "    }\n",
       "\n",
       "    .dataframe thead th {\n",
       "        text-align: right;\n",
       "    }\n",
       "</style>\n",
       "<table border=\"1\" class=\"dataframe\">\n",
       "  <thead>\n",
       "    <tr style=\"text-align: right;\">\n",
       "      <th></th>\n",
       "      <th>month</th>\n",
       "      <th>NUM DAYS W  MINIMUM &lt;=  0°</th>\n",
       "      <th>AVERAGE DRY BULB</th>\n",
       "      <th>HIGHEST DAILY MAXIMUM</th>\n",
       "      <th>LOWEST DAILY MINIMUM</th>\n",
       "      <th>MEAN DAILY MAXIMUM</th>\n",
       "      <th>MEAN DAILY MINIMUM</th>\n",
       "      <th>MEAN DEW POINT</th>\n",
       "      <th>MEAN WET BULB</th>\n",
       "      <th>NUM DAYS W  MAXIMUM &lt;= 32°</th>\n",
       "      <th>NUM DAYS W  MINIMUM &lt;= 32°</th>\n",
       "      <th>NUM DAYS W MAXIMUM &gt;=  90°</th>\n",
       "    </tr>\n",
       "  </thead>\n",
       "  <tbody>\n",
       "    <tr>\n",
       "      <th>0</th>\n",
       "      <td>APR</td>\n",
       "      <td>0.0</td>\n",
       "      <td>44.8</td>\n",
       "      <td>83.0</td>\n",
       "      <td>24.0</td>\n",
       "      <td>54.6</td>\n",
       "      <td>35.1</td>\n",
       "      <td>NaN</td>\n",
       "      <td>NaN</td>\n",
       "      <td>0.0</td>\n",
       "      <td>11.0</td>\n",
       "      <td>0.0</td>\n",
       "    </tr>\n",
       "    <tr>\n",
       "      <th>1</th>\n",
       "      <td>OCT</td>\n",
       "      <td>0.0</td>\n",
       "      <td>43.9</td>\n",
       "      <td>71.0</td>\n",
       "      <td>19.0</td>\n",
       "      <td>52.1</td>\n",
       "      <td>35.6</td>\n",
       "      <td>NaN</td>\n",
       "      <td>NaN</td>\n",
       "      <td>1.0</td>\n",
       "      <td>14.0</td>\n",
       "      <td>0.0</td>\n",
       "    </tr>\n",
       "    <tr>\n",
       "      <th>2</th>\n",
       "      <td>NOV</td>\n",
       "      <td>1.0</td>\n",
       "      <td>28.1</td>\n",
       "      <td>47.0</td>\n",
       "      <td>0.0</td>\n",
       "      <td>34.6</td>\n",
       "      <td>21.5</td>\n",
       "      <td>22.6</td>\n",
       "      <td>26.4</td>\n",
       "      <td>12.0</td>\n",
       "      <td>29.0</td>\n",
       "      <td>0.0</td>\n",
       "    </tr>\n",
       "    <tr>\n",
       "      <th>3</th>\n",
       "      <td>FEB</td>\n",
       "      <td>15.0</td>\n",
       "      <td>11.3</td>\n",
       "      <td>41.0</td>\n",
       "      <td>-15.0</td>\n",
       "      <td>20.3</td>\n",
       "      <td>2.4</td>\n",
       "      <td>NaN</td>\n",
       "      <td>NaN</td>\n",
       "      <td>24.0</td>\n",
       "      <td>27.0</td>\n",
       "      <td>0.0</td>\n",
       "    </tr>\n",
       "    <tr>\n",
       "      <th>4</th>\n",
       "      <td>SEP</td>\n",
       "      <td>0.0</td>\n",
       "      <td>65.1</td>\n",
       "      <td>89.0</td>\n",
       "      <td>46.0</td>\n",
       "      <td>74.7</td>\n",
       "      <td>55.5</td>\n",
       "      <td>57.5</td>\n",
       "      <td>60.6</td>\n",
       "      <td>0.0</td>\n",
       "      <td>0.0</td>\n",
       "      <td>0.0</td>\n",
       "    </tr>\n",
       "  </tbody>\n",
       "</table>\n",
       "</div>"
      ],
      "text/plain": [
       "  month   NUM DAYS W  MINIMUM <=  0°  AVERAGE DRY BULB  HIGHEST DAILY MAXIMUM  \\\n",
       "0   APR                          0.0              44.8                   83.0   \n",
       "1   OCT                          0.0              43.9                   71.0   \n",
       "2   NOV                          1.0              28.1                   47.0   \n",
       "3   FEB                         15.0              11.3                   41.0   \n",
       "4   SEP                          0.0              65.1                   89.0   \n",
       "\n",
       "   LOWEST DAILY MINIMUM  MEAN DAILY MAXIMUM  MEAN DAILY MINIMUM  \\\n",
       "0                  24.0                54.6                35.1   \n",
       "1                  19.0                52.1                35.6   \n",
       "2                   0.0                34.6                21.5   \n",
       "3                 -15.0                20.3                 2.4   \n",
       "4                  46.0                74.7                55.5   \n",
       "\n",
       "   MEAN DEW POINT  MEAN WET BULB  NUM DAYS W  MAXIMUM <= 32°  \\\n",
       "0             NaN            NaN                         0.0   \n",
       "1             NaN            NaN                         1.0   \n",
       "2            22.6           26.4                        12.0   \n",
       "3             NaN            NaN                        24.0   \n",
       "4            57.5           60.6                         0.0   \n",
       "\n",
       "   NUM DAYS W  MINIMUM <= 32°  NUM DAYS W MAXIMUM >=  90°  \n",
       "0                        11.0                         0.0  \n",
       "1                        14.0                         0.0  \n",
       "2                        29.0                         0.0  \n",
       "3                        27.0                         0.0  \n",
       "4                         0.0                         0.0  "
      ]
     },
     "execution_count": 75,
     "metadata": {},
     "output_type": "execute_result"
    }
   ],
   "source": [
    "spread_element = months_stacked >> spread('ELEMENT', 'measure', 'month')\n",
    "spread_element.take(5) >> to_pandas\n",
    "\n"
   ]
  },
  {
   "cell_type": "code",
   "execution_count": null,
   "metadata": {},
   "outputs": [],
   "source": []
  }
 ],
 "metadata": {
  "celltoolbar": "Slideshow",
  "kernelspec": {
   "display_name": "Python 3",
   "language": "python",
   "name": "python3"
  },
  "language_info": {
   "codemirror_mode": {
    "name": "ipython",
    "version": 3
   },
   "file_extension": ".py",
   "mimetype": "text/x-python",
   "name": "python",
   "nbconvert_exporter": "python",
   "pygments_lexer": "ipython3",
   "version": "3.7.6"
  },
  "varInspector": {
   "cols": {
    "lenName": 16,
    "lenType": 16,
    "lenVar": 40
   },
   "kernels_config": {
    "python": {
     "delete_cmd_postfix": "",
     "delete_cmd_prefix": "del ",
     "library": "var_list.py",
     "varRefreshCmd": "print(var_dic_list())"
    },
    "r": {
     "delete_cmd_postfix": ") ",
     "delete_cmd_prefix": "rm(",
     "library": "var_list.r",
     "varRefreshCmd": "cat(var_dic_list()) "
    }
   },
   "types_to_exclude": [
    "module",
    "function",
    "builtin_function_or_method",
    "instance",
    "_Feature"
   ],
   "window_display": false
  }
 },
 "nbformat": 4,
 "nbformat_minor": 2
}
